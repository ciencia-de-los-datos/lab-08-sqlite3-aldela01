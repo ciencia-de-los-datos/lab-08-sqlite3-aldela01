{
 "cells": [
  {
   "cell_type": "code",
   "execution_count": 1,
   "metadata": {},
   "outputs": [],
   "source": [
    "import sqlite3\n",
    "import pandas as pd"
   ]
  },
  {
   "cell_type": "code",
   "execution_count": 3,
   "metadata": {},
   "outputs": [],
   "source": [
    "def load_data():\n",
    "    conn = sqlite3.connect(\":memory:\")\n",
    "    cur = conn.cursor()\n",
    "\n",
    "    with open(\"create_tables.sql\", encoding=\"utf-8\") as file:\n",
    "        cur.executescript(file.read())\n",
    "\n",
    "    return conn, cur"
   ]
  },
  {
   "cell_type": "code",
   "execution_count": 6,
   "metadata": {},
   "outputs": [
    {
     "data": {
      "text/plain": [
       "{\"strftime('%Y', c23)\": {0: '2016', 1: '2017', 2: '2018', 3: '2019'},\n",
       " 'avg(c21)': {0: 564.4764285714285,\n",
       "  1: 515.1563636363636,\n",
       "  2: 557.5593749999999,\n",
       "  3: 550.9985714285714}}"
      ]
     },
     "execution_count": 6,
     "metadata": {},
     "output_type": "execute_result"
    }
   ],
   "source": [
    "def test_08():\n",
    "    conn, _ = load_data()\n",
    "    with open(\"pregunta_08.sql\", encoding=\"utf-8\") as file:\n",
    "        query = file.read()\n",
    "    df=pd.read_sql_query(query, conn).to_dict()\n",
    "    return df\n",
    "\n",
    "test_08()\n",
    "\n"
   ]
  },
  {
   "cell_type": "code",
   "execution_count": null,
   "metadata": {},
   "outputs": [],
   "source": [
    "right_dict={\n",
    "        \"strftime('%Y', c23)\": {0: \"2016\", 1: \"2017\", 2: \"2018\", 3: \"2019\"},\n",
    "        \"avg(c21)\": {\n",
    "            0: 564.4764285714285,\n",
    "            1: 515.1563636363637,\n",
    "            2: 557.5593749999999,\n",
    "            3: 550.9985714285714,\n",
    "        },\n",
    "    }"
   ]
  }
 ],
 "metadata": {
  "kernelspec": {
   "display_name": ".venv",
   "language": "python",
   "name": "python3"
  },
  "language_info": {
   "codemirror_mode": {
    "name": "ipython",
    "version": 3
   },
   "file_extension": ".py",
   "mimetype": "text/x-python",
   "name": "python",
   "nbconvert_exporter": "python",
   "pygments_lexer": "ipython3",
   "version": "3.12.2"
  }
 },
 "nbformat": 4,
 "nbformat_minor": 2
}
