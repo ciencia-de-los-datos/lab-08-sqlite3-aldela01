{
 "cells": [
  {
   "cell_type": "code",
   "execution_count": 1,
   "metadata": {},
   "outputs": [],
   "source": [
    "import sqlite3\n",
    "import pandas as pd"
   ]
  },
  {
   "cell_type": "code",
   "execution_count": 2,
   "metadata": {},
   "outputs": [],
   "source": [
    "def load_data():\n",
    "    conn = sqlite3.connect(\":memory:\")\n",
    "    cur = conn.cursor()\n",
    "\n",
    "    with open(\"create_tables.sql\", encoding=\"utf-8\") as file:\n",
    "        cur.executescript(file.read())\n",
    "\n",
    "    return conn, cur"
   ]
  },
  {
   "cell_type": "code",
   "execution_count": 10,
   "metadata": {},
   "outputs": [
    {
     "data": {
      "text/plain": [
       "{\"strftime('%Y', c23)\": {0: '2016', 1: '2017', 2: '2018', 3: '2019'},\n",
       " 'avg(c21)': {0: 564.4764285714285,\n",
       "  1: 515.1563636363636,\n",
       "  2: 557.5593749999999,\n",
       "  3: 550.9985714285714}}"
      ]
     },
     "execution_count": 10,
     "metadata": {},
     "output_type": "execute_result"
    }
   ],
   "source": [
    "def test_08():\n",
    "    conn, _ = load_data()\n",
    "    with open(\"pregunta_08.sql\", encoding=\"utf-8\") as file:\n",
    "        query = file.read()\n",
    "    df=pd.read_sql_query(query, conn).to_dict()\n",
    "    return df\n",
    "\n",
    "test_08()\n",
    "\n"
   ]
  },
  {
   "cell_type": "code",
   "execution_count": 11,
   "metadata": {},
   "outputs": [
    {
     "data": {
      "text/plain": [
       "{\"strftime('%Y', c23)\": {0: '2016', 1: '2017', 2: '2018', 3: '2019'},\n",
       " 'avg(c21)': {0: 564.4764285714285,\n",
       "  1: 515.1563636363637,\n",
       "  2: 557.5593749999999,\n",
       "  3: 550.9985714285714}}"
      ]
     },
     "execution_count": 11,
     "metadata": {},
     "output_type": "execute_result"
    }
   ],
   "source": [
    "right_dict={\n",
    "        \"strftime('%Y', c23)\": {0: \"2016\", 1: \"2017\", 2: \"2018\", 3: \"2019\"},\n",
    "        \"avg(c21)\": {\n",
    "            0: 564.4764285714285,\n",
    "            1: 515.1563636363637,\n",
    "            2: 557.5593749999999,\n",
    "            3: 550.9985714285714,\n",
    "        },\n",
    "    }\n",
    "right_dict"
   ]
  },
  {
   "cell_type": "code",
   "execution_count": 12,
   "metadata": {},
   "outputs": [
    {
     "data": {
      "text/plain": [
       "{'K1': {0: 29},\n",
       " 'c21': {0: 101.11},\n",
       " 'c22': {0: 100},\n",
       " 'c23': {0: '2017-11-17'},\n",
       " 'c24': {0: 0.42},\n",
       " 'c25': {0: 'MV-CB'}}"
      ]
     },
     "execution_count": 12,
     "metadata": {},
     "output_type": "execute_result"
    }
   ],
   "source": [
    "def test_09():\n",
    "    conn, _ = load_data()\n",
    "    with open(\"pregunta_09.sql\", encoding=\"utf-8\") as file:\n",
    "        query = file.read()\n",
    "    df= pd.read_sql_query(query, conn).to_dict()\n",
    "    return df\n",
    "\n",
    "test_09()"
   ]
  },
  {
   "cell_type": "code",
   "execution_count": 9,
   "metadata": {},
   "outputs": [
    {
     "data": {
      "text/plain": [
       "{'K0': {0: 'A', 1: 'B', 2: 'C', 3: 'D', 4: 'E'},\n",
       " 'MAX(c12)': {0: 938.16, 1: 999.72, 2: 822.81, 3: 756.37, 4: 832.44},\n",
       " 'MIN(C12)': {0: 135.8, 1: 283.4, 2: 267.42, 3: 317.77, 4: 118.77}}"
      ]
     },
     "execution_count": 9,
     "metadata": {},
     "output_type": "execute_result"
    }
   ],
   "source": [
    "def test_12():\n",
    "    conn, _ = load_data()\n",
    "    with open(\"pregunta_12.sql\", encoding=\"utf-8\") as file:\n",
    "        query = file.read()\n",
    "    df=pd.read_sql_query(query, conn).to_dict()\n",
    "    return df\n",
    "\n",
    "test_12()"
   ]
  },
  {
   "cell_type": "code",
   "execution_count": 8,
   "metadata": {},
   "outputs": [
    {
     "data": {
      "text/plain": [
       "{'K0': {0: 'A', 1: 'B', 2: 'C', 3: 'D', 4: 'E'},\n",
       " 'MAX(c12)': {0: 938.16, 1: 999.72, 2: 822.81, 3: 756.37, 4: 832.44},\n",
       " 'MIN(c12)': {0: 135.8, 1: 283.4, 2: 267.42, 3: 317.77, 4: 118.77}}"
      ]
     },
     "execution_count": 8,
     "metadata": {},
     "output_type": "execute_result"
    }
   ],
   "source": [
    "right_dict12={\n",
    "        \"K0\": {0: \"A\", 1: \"B\", 2: \"C\", 3: \"D\", 4: \"E\"},\n",
    "        \"MAX(c12)\": {0: 938.16, 1: 999.72, 2: 822.81, 3: 756.37, 4: 832.44},\n",
    "        \"MIN(c12)\": {0: 135.8, 1: 283.4, 2: 267.42, 3: 317.77, 4: 118.77},\n",
    "    }\n",
    "right_dict12"
   ]
  },
  {
   "cell_type": "code",
   "execution_count": 13,
   "metadata": {},
   "outputs": [
    {
     "data": {
      "text/plain": [
       "{'K0': {0: 'A', 1: 'B', 2: 'C', 3: 'D', 4: 'E'},\n",
       " 'avg(c12)': {0: 476.155,\n",
       "  1: 536.5233333333333,\n",
       "  2: 490.83,\n",
       "  3: 709.53,\n",
       "  4: 474.825}}"
      ]
     },
     "execution_count": 13,
     "metadata": {},
     "output_type": "execute_result"
    }
   ],
   "source": [
    "def test_13():\n",
    "    conn, _ = load_data()\n",
    "    with open(\"pregunta_13.sql\", encoding=\"utf-8\") as file:\n",
    "        query = file.read()\n",
    "    df= pd.read_sql_query(query, conn).to_dict()\n",
    "    return df\n",
    "\n",
    "test_13()"
   ]
  },
  {
   "cell_type": "code",
   "execution_count": 14,
   "metadata": {},
   "outputs": [
    {
     "data": {
      "text/plain": [
       "{'K0': {0: 'A', 1: 'B', 2: 'C', 3: 'D', 4: 'E'},\n",
       " 'avg(c12)': {0: 476.155,\n",
       "  1: 536.5233333333333,\n",
       "  2: 490.8299999999999,\n",
       "  3: 709.53,\n",
       "  4: 474.82500000000005}}"
      ]
     },
     "execution_count": 14,
     "metadata": {},
     "output_type": "execute_result"
    }
   ],
   "source": [
    "right_dict13 ={\n",
    "        \"K0\": {0: \"A\", 1: \"B\", 2: \"C\", 3: \"D\", 4: \"E\"},\n",
    "        \"avg(c12)\": {\n",
    "            0: 476.155,\n",
    "            1: 536.5233333333333,\n",
    "            2: 490.8299999999999,\n",
    "            3: 709.53,\n",
    "            4: 474.82500000000005,\n",
    "        },\n",
    "    }\n",
    "right_dict13"
   ]
  },
  {
   "cell_type": "code",
   "execution_count": 3,
   "metadata": {},
   "outputs": [],
   "source": [
    "def test_14():\n",
    "    conn, _ = load_data()\n",
    "    with open(\"pregunta_14.sql\", encoding=\"utf-8\") as file:\n",
    "        query = file.read()\n",
    "    df=pd.read_sql_query(query, conn).to_dict()\n",
    "    return df\n",
    "\n",
    "test_14()"
   ]
  }
 ],
 "metadata": {
  "kernelspec": {
   "display_name": ".venv",
   "language": "python",
   "name": "python3"
  },
  "language_info": {
   "codemirror_mode": {
    "name": "ipython",
    "version": 3
   },
   "file_extension": ".py",
   "mimetype": "text/x-python",
   "name": "python",
   "nbconvert_exporter": "python",
   "pygments_lexer": "ipython3",
   "version": "3.12.2"
  }
 },
 "nbformat": 4,
 "nbformat_minor": 2
}
